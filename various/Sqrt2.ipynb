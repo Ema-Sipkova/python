{
 "cells": [
  {
   "cell_type": "markdown",
   "id": "c05309af-bcc0-4fef-a7dd-8fca0ec71463",
   "metadata": {},
   "source": [
    "# Calculation of pi to 4000 decimals"
   ]
  },
  {
   "cell_type": "code",
   "execution_count": 1,
   "id": "8325fad7-b9fc-49e4-b093-53fc3497735d",
   "metadata": {},
   "outputs": [],
   "source": [
    "import numpy as np\n",
    "from scipy.signal import fftconvolve\n",
    "import scipy.signal as sci\n",
    "from scipy.fft import fft, ifft"
   ]
  },
  {
   "cell_type": "code",
   "execution_count": 2,
   "id": "c1b6e64d-cc31-4ece-9faf-f379c58d6d16",
   "metadata": {},
   "outputs": [],
   "source": [
    "def normalisation(x):\n",
    "    for i in range(1, len(x) + 1):\n",
    "        if i < len(x):\n",
    "            x[-i-1] = x[-i-1] + x[-i] // 10\n",
    "        x[-i] = x[-i] % 10\n",
    "    return x\n",
    "\n",
    "def division(x):\n",
    "    for i in range(len(x)):\n",
    "        x[i] = round(x[i], 1)\n",
    "        if i < len(x) - 1:\n",
    "            x[i+1] = x[i+1] + (x[i] % 1) * 10\n",
    "        x[i] = x[i] // 1\n",
    "    return x\n",
    "\n",
    "def convolution_fft(x, y):\n",
    "    n = len(x) + len(y) - 1\n",
    "    fft_size = 2**int(np.ceil(np.log2(n)))\n",
    "    X = np.fft.fft(x, fft_size)\n",
    "    Y = np.fft.fft(y, fft_size)\n",
    "    conv = np.fft.ifft(X * Y)\n",
    "    conv = np.real(conv)\n",
    "    return conv[:n]"
   ]
  },
  {
   "cell_type": "code",
   "execution_count": 3,
   "id": "fd19b785-2395-4010-84a2-3c427ab43289",
   "metadata": {},
   "outputs": [],
   "source": [
    "np.set_printoptions(threshold=np.inf)\n",
    "n = 8192\n",
    "x = np.zeros(n)\n",
    "one = np.full(n, 9)\n",
    "one_d = np.zeros(n)\n",
    "one_d[-1] = 1\n",
    "\n",
    "threshold = 0.01\n",
    "comp = False\n",
    "i = 0\n",
    "arr = []\n",
    "j = 10\n",
    "\n",
    "while comp == False:\n",
    "    xn1 = x\n",
    "#    a = np.convolve(x, x)\n",
    "    a = convolution_fft(x, x)\n",
    "    a[a < threshold] = 0\n",
    "    b = np.insert(a[:n-1], 0, 0)\n",
    "    c = normalisation(b)\n",
    "    xn = 0.5 * (one - c + one_d)\n",
    "    x = normalisation(division(xn))\n",
    "    comp = (xn1[:4000] == x[:4000]).all()\n",
    "    cond = (xn1[:j] == x[:j]).all()\n",
    "    if cond == True:\n",
    "        #print('j = {} reached, i = {}'.format(j, i))\n",
    "        arr.append(i)\n",
    "        j = j + 1\n",
    "    i = i + 1"
   ]
  },
  {
   "cell_type": "code",
   "execution_count": 4,
   "id": "e60e24fb-ab80-41d5-8cdc-2952ff9631d2",
   "metadata": {},
   "outputs": [],
   "source": [
    "# Saving the decimals as individual characters\n",
    "np.savetxt('sqrt2_fft.txt', x[:4000], delimiter=' ')"
   ]
  },
  {
   "cell_type": "code",
   "execution_count": 5,
   "id": "3a6a90c8-c691-41d0-bdf5-8ba86d8c3bde",
   "metadata": {},
   "outputs": [
    {
     "data": {
      "text/plain": [
       "\"import matplotlib.pyplot as plt\\nimport pandas as pd\\n\\ndata = pd.read_csv('fft_iter.csv')\\ndata['i_np'] = arr\\n\\nplt.plot(data['i_fft'], data['j'], ms = 0.5, label = 'FFT')\\nplt.plot(data['i_np'], data['j'], ms = 0.5, label = 'No FFT')\\n\\nplt.xlabel('Number of iterations')\\nplt.ylabel('Reached decimal')\\nplt.legend()\\nplt.show()\""
      ]
     },
     "execution_count": 5,
     "metadata": {},
     "output_type": "execute_result"
    }
   ],
   "source": [
    "'''import matplotlib.pyplot as plt\n",
    "import pandas as pd\n",
    "\n",
    "data = pd.read_csv('fft_iter.csv')\n",
    "data['i_np'] = arr\n",
    "\n",
    "plt.plot(data['i_fft'], data['j'], ms = 0.5, label = 'FFT')\n",
    "plt.plot(data['i_np'], data['j'], ms = 0.5, label = 'No FFT')\n",
    "\n",
    "plt.xlabel('Number of iterations')\n",
    "plt.ylabel('Reached decimal')\n",
    "plt.legend()\n",
    "plt.show()'''"
   ]
  },
  {
   "cell_type": "code",
   "execution_count": 6,
   "id": "efea8d16-e012-47b5-a362-de63c1991ad9",
   "metadata": {},
   "outputs": [],
   "source": [
    "#data.to_csv('fft_iter.csv', index = False)"
   ]
  },
  {
   "cell_type": "code",
   "execution_count": null,
   "id": "92f2340c-53d8-47ae-abfe-732dac99cb40",
   "metadata": {},
   "outputs": [],
   "source": [
    "# error estimation\n",
    "sqrt2 = x\n",
    "\n",
    "x = np.zeros(n)\n",
    "threshold = 0.01\n",
    "comp = False\n",
    "i = 0\n",
    "arr = []\n",
    "en = sqrt2\n",
    "\n",
    "while comp == False:\n",
    "    en = normalisation(sqrt2 - x)\n",
    "    xn1 = x\n",
    "#    a = np.convolve(x, x)\n",
    "    a = convolution_fft(x, x)\n",
    "    a[a < threshold] = 0\n",
    "    b = np.insert(a[:n-1], 0, 0)\n",
    "    c = normalisation(b)\n",
    "    xn = 0.5 * (one - c + one_d)\n",
    "    x = normalisation(division(xn))\n",
    "    comp = (xn1[:4000] == x[:4000]).all()\n",
    "    en1 = normalisation(sqrt2 - x)\n",
    "    r = np.sum(en1) / np.sum(en)\n",
    "    arr.append((i, r))\n",
    "    i = i + 1"
   ]
  },
  {
   "cell_type": "code",
   "execution_count": null,
   "id": "e7922dc9-c063-46bd-88e7-4e436bcb8202",
   "metadata": {},
   "outputs": [],
   "source": []
  }
 ],
 "metadata": {
  "kernelspec": {
   "display_name": "Python 3 (ipykernel)",
   "language": "python",
   "name": "python3"
  },
  "language_info": {
   "codemirror_mode": {
    "name": "ipython",
    "version": 3
   },
   "file_extension": ".py",
   "mimetype": "text/x-python",
   "name": "python",
   "nbconvert_exporter": "python",
   "pygments_lexer": "ipython3",
   "version": "3.11.7"
  }
 },
 "nbformat": 4,
 "nbformat_minor": 5
}
