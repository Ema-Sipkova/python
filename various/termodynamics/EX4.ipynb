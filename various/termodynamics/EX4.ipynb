{
 "cells": [
  {
   "cell_type": "markdown",
   "id": "119dfdf4-8ed2-4847-bc1d-b564be09b309",
   "metadata": {},
   "source": [
    "# **Approximation of the Riemann zeta function**"
   ]
  },
  {
   "cell_type": "code",
   "execution_count": 1,
   "id": "7e0be07d-ec5a-41fa-992e-8de7e846de28",
   "metadata": {},
   "outputs": [],
   "source": [
    "from scipy.integrate import quad\n",
    "from scipy.special import gamma, zeta\n",
    "import numpy as np"
   ]
  },
  {
   "cell_type": "code",
   "execution_count": 2,
   "id": "33799820-5ef9-4052-bf07-08b7ae62434b",
   "metadata": {},
   "outputs": [],
   "source": [
    "def integral(n):\n",
    "    return lambda x: x ** (n -1) / (np.exp(x)-1)\n",
    "\n",
    "def rsum(n, N):\n",
    "    result = 0\n",
    "    for i in range(N):\n",
    "        result = result + 1/(i+1)**n\n",
    "    return result"
   ]
  },
  {
   "cell_type": "code",
   "execution_count": 5,
   "id": "656a5f58-2dd6-47cc-aa36-0b5f98e808f5",
   "metadata": {},
   "outputs": [
    {
     "name": "stdout",
     "output_type": "stream",
     "text": [
      "Real: 2.6123753487\n",
      "Integral: 2.6123753487\n",
      "Sum: 2.6103753492\n"
     ]
    },
    {
     "name": "stderr",
     "output_type": "stream",
     "text": [
      "C:\\Users\\admin\\AppData\\Local\\Temp\\ipykernel_9688\\404031022.py:2: RuntimeWarning: overflow encountered in exp\n",
      "  return lambda x: x ** (n -1) / (np.exp(x)-1)\n"
     ]
    }
   ],
   "source": [
    "n = 3/2\n",
    "N = 1000000\n",
    "\n",
    "Riemann_int = quad(integral(n), 0, np.inf) / gamma(n)\n",
    "Riemann_sum = rsum(n, N)\n",
    "\n",
    "print('Real: {:.10f}'.format(zeta(n)))\n",
    "print('Integral: {:.10f}'.format(Riemann_int[0]))\n",
    "print('Sum: {:.10f}'.format(Riemann_sum))"
   ]
  },
  {
   "cell_type": "code",
   "execution_count": null,
   "id": "c4f505d9-2455-40df-93cc-20283587f6d8",
   "metadata": {},
   "outputs": [],
   "source": []
  }
 ],
 "metadata": {
  "kernelspec": {
   "display_name": "Python 3 (ipykernel)",
   "language": "python",
   "name": "python3"
  },
  "language_info": {
   "codemirror_mode": {
    "name": "ipython",
    "version": 3
   },
   "file_extension": ".py",
   "mimetype": "text/x-python",
   "name": "python",
   "nbconvert_exporter": "python",
   "pygments_lexer": "ipython3",
   "version": "3.11.7"
  }
 },
 "nbformat": 4,
 "nbformat_minor": 5
}
